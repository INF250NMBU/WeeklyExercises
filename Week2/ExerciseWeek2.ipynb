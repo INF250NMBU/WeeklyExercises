{
 "cells": [
  {
   "cell_type": "markdown",
   "metadata": {},
   "source": [
    "## Exercise Week 2: Image Processing with Python and Fiji\n",
    "\n",
    "### Introduction\n",
    "\n",
    "This week's exercise involves experimenting with various image processing techniques using both Fiji/ImageJ and Python.\n",
    "You will compare the results of these techniques between the two environments.\n",
    "\n",
    "The photo used in this exercise was taken at Sapienza University of Rome during a scientific conference on image analysis.\n",
    "\n",
    "In this notebook, we will:\n",
    "1. Import the original image (fountain.jpg).\n",
    "2. Apply a Gaussian filter with sigma=5 using scikit-image.\n",
    "3. Apply an Otsu threshold using scikit-image.\n",
    "4. Compare the results from Fiji/ImageJ and Python.\n"
   ]
  },
  {
   "cell_type": "markdown",
   "metadata": {},
   "source": [
    "![Alt Text](assets/threshold.jpg)\n"
   ]
  },
  {
   "cell_type": "markdown",
   "metadata": {},
   "source": [
    "#### Task 1: Import the Required Libraries\n",
    "\n",
    "\n",
    "Before starting with the image processing, import the necessary Python libraries: `matplotlib`, `numpy`, and functions from `skimage`."
   ]
  },
  {
   "cell_type": "code",
   "execution_count": null,
   "metadata": {},
   "outputs": [],
   "source": []
  },
  {
   "cell_type": "markdown",
   "metadata": {},
   "source": [
    "#### Task 2: Load the Original Image\n",
    "\n",
    "Load the original image `fountain.jpg` into Python using the `io.imread()` function from `scikit-image`."
   ]
  },
  {
   "cell_type": "code",
   "execution_count": null,
   "metadata": {},
   "outputs": [],
   "source": []
  },
  {
   "cell_type": "markdown",
   "metadata": {},
   "source": [
    "#### Task 3: Convert to Grayscale and Apply Gaussian Filter\n",
    "\n",
    "Convert the loaded image to grayscale using `color.rgb2gray()` and then apply a Gaussian filter with a sigma of 5."
   ]
  },
  {
   "cell_type": "code",
   "execution_count": null,
   "metadata": {},
   "outputs": [],
   "source": []
  },
  {
   "cell_type": "markdown",
   "metadata": {},
   "source": [
    "#### Task 4: Apply Otsu Thresholding\n",
    "\n",
    "Apply Otsu thresholding to the Gaussian-filtered image to create a binary image.\n",
    "\n",
    "*Hint:\n",
    "Use the `threshold_otsu()` function to calculate the threshold and then apply it to the image*"
   ]
  },
  {
   "cell_type": "code",
   "execution_count": null,
   "metadata": {},
   "outputs": [],
   "source": []
  },
  {
   "cell_type": "markdown",
   "metadata": {},
   "source": [
    "#### Task 5: Compare with Fiji/ImageJ Results\n",
    "\n",
    "Compare the results obtained from Python with those from Fiji/ImageJ. Visually inspect the images to verify if they match.\n",
    "\n",
    "*Hint: You can save the images as `.jpg` files using the `io.imsave()` function and load them into Fiji/ImageJ for comparison*"
   ]
  },
  {
   "cell_type": "code",
   "execution_count": null,
   "metadata": {},
   "outputs": [],
   "source": []
  }
 ],
 "metadata": {
  "language_info": {
   "name": "python"
  }
 },
 "nbformat": 4,
 "nbformat_minor": 2
}
