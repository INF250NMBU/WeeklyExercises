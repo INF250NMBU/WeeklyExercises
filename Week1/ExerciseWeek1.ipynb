{
 "cells": [
  {
   "cell_type": "markdown",
   "metadata": {},
   "source": [
    "\n",
    "## Week 1: Introduction to Image Processing with ImageJ and Python\n",
    "In this week’s exercise, you will get started with basic image processing using both ImageJ (Fiji) and Python. You will explore how to handle images, extract pixel values, and perform simple operations like color channel separation and basic analysis."
   ]
  },
  {
   "cell_type": "markdown",
   "metadata": {},
   "source": [
    "![Alt Text](assets/fiat.jpg)\n"
   ]
  },
  {
   "cell_type": "markdown",
   "metadata": {},
   "source": [
    "### Exercise 1. ImageJ Tasks\n",
    "(This part is done in ImageJ)"
   ]
  },
  {
   "cell_type": "markdown",
   "metadata": {},
   "source": [
    "#### Exercise 1: Basic Image Handling\n",
    "1a) ImageJ/Fiji\n",
    "\n",
    "1. Install ImageJ/Fiji:\n",
    "\n",
    "    - Download and install ImageJ/Fiji\n",
    "2. Import the Image:\n",
    "\n",
    "- Download the image fall.tif from the provided link.\n",
    "- Open ImageJ/Fiji, and load the image `fall.tif`.\n",
    "\n",
    "3. Copy the Original Image:\n",
    "\n",
    "- Go to `Edit` -> `Copy` to make a copy of the image.\n",
    "\n",
    "4. Find RGB Pixel Values:\n",
    "\n",
    "- Use the coordinate tool to find the RGB values at the following coordinates:\n",
    "    - (418, 356)\n",
    "    - (550, 512)\n",
    "    - (628, 844)\n",
    "- Record the RGB values for each coordinate.\n",
    "\n",
    "5. Determine Bit Depth:\n",
    "\n",
    "- Identify whether the image is 8-bit or 16-bit RGB.\n",
    "6. Split and Convert:\n",
    "\n",
    "- Split the image into its RGB channels using `Image` -> `Color` -> `Split Channels`.\n",
    "- Convert the image to an 8-bit grayscale using `Image` -> `Type` -> `8-bit`."
   ]
  },
  {
   "cell_type": "markdown",
   "metadata": {},
   "source": [
    "### Exercise 2. Image Compression and Quality Analysis using Python"
   ]
  },
  {
   "cell_type": "code",
   "execution_count": null,
   "metadata": {},
   "outputs": [],
   "source": [
    "# Install all the packages listed in requirements.txt\n",
    "%pip install -r ../requirements.txt\n"
   ]
  },
  {
   "cell_type": "markdown",
   "metadata": {},
   "source": [
    "#### 1. Import the Image in Python:\n",
    "\n",
    "- Load the `fall.tif` image using scikit-image.\n",
    "- Use the following script as a guide:"
   ]
  },
  {
   "cell_type": "code",
   "execution_count": null,
   "metadata": {},
   "outputs": [],
   "source": [
    "import matplotlib.pyplot as plt\n",
    "from skimage import io\n",
    "\n",
    "# Load the image\n",
    "image = io.imread('assets/fall.tiff')\n",
    "\n",
    "# Display the image\n",
    "plt.imshow(image)\n",
    "plt.title('Original Image')\n",
    "plt.axis('off')\n",
    "plt.show()\n"
   ]
  },
  {
   "cell_type": "markdown",
   "metadata": {},
   "source": [
    "#### 3. Find Pixel Values:\n",
    "\n",
    "- Extract and print the RGB values for the coordinates:\n",
    "    - (418, 356)\n",
    "    - (550, 512)\n",
    "    - (628, 844)"
   ]
  },
  {
   "cell_type": "code",
   "execution_count": null,
   "metadata": {},
   "outputs": [],
   "source": [
    "# Coordinates to check\n",
    "coords = [(418, 356), (550, 512), (628, 844)]\n",
    "\n",
    "for coord in coords:\n",
    "    x, y = coord\n",
    "    print(f\"Pixel at {coord}: {image[y, x]}\")\n"
   ]
  },
  {
   "cell_type": "markdown",
   "metadata": {},
   "source": [
    "#### 4. Check Image Size:\n",
    "\n",
    "- Find out how many pixels are there in the x and y dimensions of the image."
   ]
  },
  {
   "cell_type": "code",
   "execution_count": null,
   "metadata": {},
   "outputs": [],
   "source": [
    "height, width, channels = image.shape\n",
    "print(f\"Image dimensions: {width}x{height} with {channels} color channels\")\n"
   ]
  },
  {
   "cell_type": "markdown",
   "metadata": {},
   "source": [
    "#### 5. Extract RGB Channels:\n",
    "\n",
    "- Separate the image into its Red, Green, and Blue channels."
   ]
  },
  {
   "cell_type": "code",
   "execution_count": null,
   "metadata": {},
   "outputs": [],
   "source": [
    "R = image[:, :, 0]\n",
    "G = image[:, :, 1]\n",
    "B = image[:, :, 2]"
   ]
  },
  {
   "cell_type": "markdown",
   "metadata": {},
   "source": [
    "#### 6. (Optional) Import Your Own Image:\n",
    "\n",
    "- Load and analyze another image of your choice using similar steps.\n"
   ]
  },
  {
   "cell_type": "markdown",
   "metadata": {},
   "source": [
    "### Exercise 2: Compression with Loss\n",
    "#### 1. ImageJ - Compression Analysis:\n",
    "\n",
    "1. *Set JPEG Quality*: In ImageJ, go to `Edit` -> `Options` -> `Input/Output` and set JPEG quality to 60%.\n",
    "2. *Restart ImageJ*: Quit and restart ImageJ for the setting to take effect.\n",
    "3. Download and Save Image: Download `feep.ascii.pgm` and save it as both JPEG and TIFF.\n",
    "4. Analyze Quality:\n",
    "    - Compare the quality of the images visually by zooming in.\n",
    "    - Use Process -> Image Calculator to subtract the PGM image from the JPEG and TIFF images.\n",
    "    - Set the result to be a 32-bit image to handle negative values."
   ]
  },
  {
   "cell_type": "markdown",
   "metadata": {},
   "source": [
    "5. What to Expect:\n",
    "\n",
    "- Describe the differences observed between the original and compressed images.\n",
    "- What do you expect to see when subtracting the images?"
   ]
  },
  {
   "cell_type": "markdown",
   "metadata": {},
   "source": [
    "### Exercise 3: Numpy Indexing and Basic Image Manipulation in Python\n"
   ]
  },
  {
   "cell_type": "markdown",
   "metadata": {},
   "source": [
    "#### 1. Import the Image:\n",
    "\n",
    "Download `fiat.jpg` and load it into Python."
   ]
  },
  {
   "cell_type": "code",
   "execution_count": null,
   "metadata": {},
   "outputs": [],
   "source": [
    "# Load the image\n",
    "fiat_image = io.imread('assets/fiat.jpg')\n"
   ]
  },
  {
   "cell_type": "markdown",
   "metadata": {},
   "source": [
    "#### 2. Find Red Channel Statistics:\n",
    "\n",
    "Calculate the maximum, minimum, and mean values for the Red channel"
   ]
  },
  {
   "cell_type": "code",
   "execution_count": null,
   "metadata": {},
   "outputs": [],
   "source": []
  },
  {
   "cell_type": "markdown",
   "metadata": {},
   "source": [
    "#### 3. Find Image Shape:\n",
    "\n",
    "Determine the shape of the full-color image."
   ]
  },
  {
   "cell_type": "code",
   "execution_count": null,
   "metadata": {},
   "outputs": [],
   "source": []
  },
  {
   "cell_type": "markdown",
   "metadata": {},
   "source": [
    "#### 4. Modify Pixels:\n",
    "\n",
    "Set the pixel at the 5th row and 3rd column to white (255, 255, 255)."
   ]
  },
  {
   "cell_type": "code",
   "execution_count": null,
   "metadata": {},
   "outputs": [],
   "source": []
  },
  {
   "cell_type": "markdown",
   "metadata": {},
   "source": [
    "#### 5. Create a Mask:\n",
    "\n",
    "Create a mask to frame the car in the image. You can use a square, triangle, or circular mask."
   ]
  },
  {
   "cell_type": "code",
   "execution_count": null,
   "metadata": {},
   "outputs": [],
   "source": []
  },
  {
   "cell_type": "markdown",
   "metadata": {},
   "source": [
    "Like this:"
   ]
  },
  {
   "cell_type": "markdown",
   "metadata": {},
   "source": [
    "![Alt Text](assets/fiat_mask.png)\n"
   ]
  },
  {
   "cell_type": "markdown",
   "metadata": {},
   "source": []
  }
 ],
 "metadata": {
  "kernelspec": {
   "display_name": ".venv",
   "language": "python",
   "name": "python3"
  },
  "language_info": {
   "codemirror_mode": {
    "name": "ipython",
    "version": 3
   },
   "file_extension": ".py",
   "mimetype": "text/x-python",
   "name": "python",
   "nbconvert_exporter": "python",
   "pygments_lexer": "ipython3",
   "version": "3.11.6"
  }
 },
 "nbformat": 4,
 "nbformat_minor": 2
}
